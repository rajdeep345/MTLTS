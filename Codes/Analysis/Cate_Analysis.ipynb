{
  "nbformat": 4,
  "nbformat_minor": 0,
  "metadata": {
    "colab": {
      "name": "Cate Analysis",
      "provenance": [],
      "collapsed_sections": []
    },
    "kernelspec": {
      "name": "python3",
      "display_name": "Python 3"
    }
  },
  "cells": [
    {
      "cell_type": "code",
      "metadata": {
        "id": "hBV1OgopWcVr"
      },
      "source": [
        "#clone the repo\n",
        "!git clone \"Repo URL\" --quiet"
      ],
      "execution_count": null,
      "outputs": []
    },
    {
      "cell_type": "code",
      "metadata": {
        "colab": {
          "base_uri": "https://localhost:8080/"
        },
        "id": "wgqth4a0Wn4O",
        "outputId": "356e6bae-d493-46a2-c222-931137636997"
      },
      "source": [
        "cd MTLVS/Codes/Analysis/CatE"
      ],
      "execution_count": null,
      "outputs": [
        {
          "output_type": "stream",
          "text": [
            "/content/MTLVS/Codes/Analysis/CatE\n"
          ],
          "name": "stdout"
        }
      ]
    },
    {
      "cell_type": "code",
      "metadata": {
        "colab": {
          "base_uri": "https://localhost:8080/"
        },
        "id": "MNTMOBocWtDa",
        "outputId": "53d22114-b5f1-4ffd-ddb7-c97653244707"
      },
      "source": [
        "!bash run.sh"
      ],
      "execution_count": null,
      "outputs": [
        {
          "output_type": "stream",
          "text": [
            "make: 'cate' is up to date.\n",
            "Starting training using file ./datasets/tweet/phrase_text.txt\n",
            "Training with specificity; Specificity values output to file ./datasets/tweet/emb_topics_spec.txt\n",
            "Reading topics from file ./datasets/tweet/topics.txt\n",
            "Vocab size: 1584\n",
            "Words in train file: 85467\n",
            "Loading embedding from file word2vec_100.txt\n",
            "In vocab: 1425\n",
            "Read 4 topics\n",
            "people\tvictims\tfamilies\tfriends\tcondolences\tattack\tlives\tartist\tkilled\tmurder\tcountry\t\n",
            "police\tshooting\tshot\tgunman\tsuspect\tvideo\tconfirm\tpolice\tarmed\tcops\tphoto\tgas\tforces\t\n",
            "place\tsupermarket\tpilot\tcockpit\tplane\tdoor\tnews\tlocked\tcafe\tselfies\tsiege\thostages\tscene\tsite\tbystanders\t\n",
            "thoughts\tcharlie\tottawa\tpeople\tthoughts\tmuslim\thostage\tcondolences\tfamily\tthinking\tsympathy\t\n",
            "Pre-training for 2 epochs, in total 2 + 10 = 12 epochs\n",
            "\n",
            "Category (people): \tpeople victims families friends condolences attack lives artist killed murder country murdered \n",
            "Category (police): \tpolice shooting shot gunman suspect video confirm police armed cops photo gas forces uniformed \n",
            "Category (place): \tplace supermarket pilot cockpit plane door news locked cafe selfies siege hostages scene site bystanders opera_house \n",
            "Category (thoughts): \tthoughts charlie ottawa people thoughts muslim hostage condolences family thinking sympathy ottawastrong \n",
            "\n",
            "Category (people): \tpeople victims families friends condolences attack lives artist killed murder country murdered tignous \n",
            "Category (police): \tpolice shooting shot gunman suspect video confirm police armed cops photo gas forces uniformed investigating \n",
            "Category (place): \tplace supermarket pilot cockpit plane door news locked cafe selfies siege hostages scene site bystanders opera_house heavily_armed \n",
            "Category (thoughts): \tthoughts charlie ottawa people thoughts muslim hostage condolences family thinking sympathy ottawastrong telling \n",
            "\n",
            "Category (people): \tpeople victims families friends condolences attack lives artist killed murder country murdered tignous surviving \n",
            "Category (police): \tpolice shooting shot gunman suspect video confirm police armed cops photo gas forces uniformed investigating ctv_news \n",
            "Category (place): \tplace supermarket pilot cockpit plane door news locked cafe selfies siege hostages scene site bystanders opera_house heavily_armed café \n",
            "Category (thoughts): \tthoughts charlie ottawa people thoughts muslim hostage condolences family thinking sympathy ottawastrong telling prayers \n",
            "\n",
            "Category (people): \tpeople victims families friends condolences attack lives artist killed murder country murdered tignous surviving cabu \n",
            "Category (police): \tpolice shooting shot gunman suspect video confirm police armed cops photo gas forces uniformed ctv_news investigating michael_zehaf-bibeau \n",
            "Category (place): \tplace supermarket pilot cockpit plane door news locked cafe selfies siege hostages scene site bystanders opera_house heavily_armed shortly café \n",
            "Category (thoughts): \tthoughts charlie ottawa people thoughts muslim hostage condolences family thinking sympathy telling ottawastrong prayers everybody \n",
            "\n",
            "Category (people): \tpeople victims families friends condolences attack lives artist killed murder country tignous murdered surviving cabu jesuisahmed \n",
            "Category (police): \tpolice shooting shot gunman suspect video confirm police armed cops photo gas forces uniformed ctv_news investigating michael_zehaf-bibeau fired \n",
            "Category (place): \tplace supermarket pilot cockpit plane door news locked cafe selfies siege hostages scene site bystanders opera_house heavily_armed shortly business_district café \n",
            "Category (thoughts): \tthoughts charlie ottawa people thoughts muslim hostage condolences family thinking sympathy ottawastrong telling prayers everybody and \n",
            "\n",
            "Category (people): \tpeople victims families friends condolences attack lives artist killed murder country tignous murdered surviving cabu jesuisahmed charliehebdo \n",
            "Category (police): \tpolice shooting shot gunman suspect video confirm police armed cops photo gas forces uniformed ctv_news investigating michael_zehaf-bibeau fired wearing \n",
            "Category (place): \tplace supermarket pilot cockpit plane door news locked cafe selfies siege hostages scene site bystanders opera_house business_district shortly heavily_armed martin_place germanwings \n",
            "Category (thoughts): \tthoughts charlie ottawa people thoughts muslim hostage condolences family thinking sympathy telling ottawastrong prayers everybody and spoke \n",
            "\n",
            "Category (people): \tpeople victims families friends condolences attack lives artist killed murder country tignous murdered surviving cabu jesuisahmed wolinski charliehebdo \n",
            "Category (police): \tpolice shooting shot gunman suspect video confirm police armed cops photo gas forces uniformed ctv_news investigating michael_zehaf-bibeau gunmen wearing fired \n",
            "Category (place): \tplace supermarket pilot cockpit plane door news locked cafe selfies siege hostages scene site bystanders opera_house business_district shortly heavily_armed germanwings porte shop \n",
            "Category (thoughts): \tthoughts charlie ottawa people thoughts muslim hostage condolences family thinking sympathy telling ottawastrong prayers everybody and spoke goes \n",
            "\n",
            "Category (people): \tpeople victims families friends condolences attack lives artist killed murder country tignous surviving cabu murdered jesuisahmed wolinski reprint freedomofspeech \n",
            "Category (police): \tpolice shooting shot gunman suspect video confirm police armed cops photo gas forces uniformed ctv_news michael_zehaf-bibeau investigating fired wearing gunmen ammunition \n",
            "Category (place): \tplace supermarket pilot cockpit plane door news locked cafe selfies siege hostages scene site bystanders opera_house business_district shortly heavily_armed shop martin_place porte </s> \n",
            "Category (thoughts): \tthoughts charlie ottawa people thoughts muslim hostage condolences family thinking sympathy prayers telling ottawastrong everybody and spoke affected everyone \n",
            "\n",
            "Category (people): \tpeople victims families friends condolences attack lives artist killed murder country tignous freedomofspeech surviving cabu murdered jesuisahmed reprint wolinski charliehebdo \n",
            "Category (police): \tpolice shooting shot gunman suspect video confirm police armed cops photo gas forces uniformed ammunition michael_zehaf-bibeau ctv_news investigating gunmen fired wearing station \n",
            "Category (place): \tplace supermarket pilot cockpit plane door news locked cafe selfies siege hostages scene site bystanders </s> opera_house business_district shortly shop porte heavily_armed martin_place selfie \n",
            "Category (thoughts): \tthoughts charlie ottawa people thoughts muslim hostage condolences family thinking sympathy prayers ottawastrong telling everybody and spoke affected everyone saddened \n",
            "\n",
            "Category (people): \tpeople victims families friends condolences attack lives artist killed murder country tignous freedomofspeech surviving cabu murdered jesuisahmed reprint wolinski charliehebdo cartoonists \n",
            "Category (police): \tpolice shooting shot gunman suspect video confirm police armed cops photo gas forces ammunition uniformed michael_zehaf-bibeau ctv_news gunmen investigating fired wearing station suspects \n",
            "Category (place): \tplace supermarket pilot cockpit plane door news locked cafe selfies siege hostages scene site bystanders </s> opera_house business_district shortly shop porte selfie martin_place dusseldorf heavily_armed \n",
            "Category (thoughts): \tthoughts charlie ottawa people thoughts muslim hostage condolences family thinking sympathy prayers ottawastrong everybody spoke and affected telling everyone tragic saddened \n",
            "Topic mining results written to file ./datasets/tweet/res_topics.txt\n"
          ],
          "name": "stdout"
        }
      ]
    },
    {
      "cell_type": "code",
      "metadata": {
        "id": "ortkM2m9W3O6"
      },
      "source": [
        ""
      ],
      "execution_count": null,
      "outputs": []
    }
  ]
}